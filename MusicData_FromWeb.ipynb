{
  "nbformat": 4,
  "nbformat_minor": 0,
  "metadata": {
    "colab": {
      "name": "MusicData_FromWeb.ipynb",
      "provenance": [],
      "authorship_tag": "ABX9TyNxwyXhBAcOKDt47+Mq+beC",
      "include_colab_link": true
    },
    "kernelspec": {
      "name": "python385jvsc74a57bd0a2f4e1d56b0fbea644ca7d6e69692bb9f4895c70fb5922c38883ad0ee003e752",
      "display_name": "Python 3.8.5 64-bit ('base': conda)"
    },
    "language_info": {
      "name": "python",
      "version": "3.8.5"
    },
    "metadata": {
      "interpreter": {
        "hash": "a2f4e1d56b0fbea644ca7d6e69692bb9f4895c70fb5922c38883ad0ee003e752"
      }
    }
  },
  "cells": [
    {
      "cell_type": "markdown",
      "metadata": {
        "id": "view-in-github",
        "colab_type": "text"
      },
      "source": [
        "<a href=\"https://colab.research.google.com/github/fidelgabriel21/IA_PC1/blob/main/MusicData_FromWeb.ipynb\" target=\"_parent\"><img src=\"https://colab.research.google.com/assets/colab-badge.svg\" alt=\"Open In Colab\"/></a>"
      ]
    },
    {
      "cell_type": "markdown",
      "metadata": {
        "id": "l0pMRwaGTH-2"
      },
      "source": [
        "En este cuaderno se mostrará como obtener datos relacionada a la industria de la música del repositorio de Jamendo http://dbtune.org/jamendo/ , utilizando rdflib."
      ]
    },
    {
      "source": [
        "# Instalación de la librería RDFLib"
      ],
      "cell_type": "markdown",
      "metadata": {}
    },
    {
      "cell_type": "code",
      "metadata": {
        "colab": {
          "base_uri": "https://localhost:8080/"
        },
        "id": "TLAifp-WTBZE",
        "outputId": "b60a9605-7c8d-4b3a-f372-f839fb6a96b7"
      },
      "source": [
        "%pip install rdflib"
      ],
      "execution_count": null,
      "outputs": []
    },
    {
      "source": [
        "# Importando la librería RDFLib"
      ],
      "cell_type": "markdown",
      "metadata": {}
    },
    {
      "cell_type": "code",
      "execution_count": null,
      "metadata": {},
      "outputs": [],
      "source": [
        "from rdflib import URIRef, BNode, Literal\n",
        "from rdflib import Namespace\n",
        "from rdflib.namespace import RDF, RDFS, FOAF, DC\n",
        "from rdflib import ConjunctiveGraph\n",
        "from rdflib import Graph"
      ]
    },
    {
      "cell_type": "markdown",
      "metadata": {
        "id": "2rMH5pGKTGfs"
      },
      "source": [
        "Se trabajará con la información de todos los artista que nos brinda Jamendo, con esta crearemos el grafo\n"
      ]
    },
    {
      "cell_type": "code",
      "metadata": {
        "colab": {
          "base_uri": "https://localhost:8080/"
        },
        "id": "uM-vnyuVZG3a",
        "outputId": "c6d185b8-936a-4e38-fe1d-2b56ed1ccc6e"
      },
      "source": [
        "from rdflib import Graph\n",
        "\n",
        "j = Graph()\n",
        "j.parse(\"http://dbtune.org/jamendo/all/artist\")\n",
        "\n",
        "print(j.serialize(format=\"turtle\").decode(\"utf-8\"))"
      ],
      "execution_count": null,
      "outputs": []
    },
    {
      "cell_type": "markdown",
      "metadata": {
        "id": "-e0LNrcZZx9_"
      },
      "source": [
        "Cada subject del grafo j, noda indicará una URIRef con información de un determinado artista, para obtener esta data podemos crear múltiples grafos que representen a cada artista"
      ]
    },
    {
      "cell_type": "code",
      "metadata": {
        "colab": {
          "base_uri": "https://localhost:8080/"
        },
        "id": "d2_xM59japrh",
        "outputId": "7e01ee9c-d0dd-45cc-c4ae-7a40e9b4e994"
      },
      "source": [
        "i = 0 \n",
        "a = Graph()\n",
        "for s,o in j.subject_objects():\n",
        "    i = i + 1 \n",
        "    if(i == 10): #solo los 10 primeros\n",
        "        break\n",
        "    id = s.split('/')\n",
        "    a.parse(f'http://dbtune.org/jamendo/artist/{id[5]}')\n",
        "print(a.serialize(format=\"turtle\").decode(\"utf-8\"))"
      ],
      "execution_count": null,
      "outputs": []
    },
    {
      "cell_type": "markdown",
      "metadata": {
        "id": "ZU2Kp1t5dwK3"
      },
      "source": [
        "Ahora en el grafo a, tenemos datos sobre diferentes artistas que se pueden extraer mediante un filtro, un ejemplo de esto \n",
        "sería extraer name."
      ]
    },
    {
      "cell_type": "code",
      "metadata": {
        "colab": {
          "base_uri": "https://localhost:8080/"
        },
        "id": "tBxxpl3bcKuO",
        "outputId": "734847b5-eee6-4235-d1ab-bbdc524b1483"
      },
      "source": [
        "from rdflib.namespace import FOAF\n",
        "\n",
        "print('Artists names:',end = '\\n\\n')\n",
        "for s,o in a.subject_objects(FOAF.name):\n",
        "  print(o)"
      ],
      "execution_count": null,
      "outputs": []
    },
    {
      "cell_type": "code",
      "metadata": {
        "colab": {
          "base_uri": "https://localhost:8080/"
        },
        "id": "Uu63lRKgdJYy",
        "outputId": "57f2a74c-d76b-45ab-a47f-ac96f1ecaa7a"
      },
      "source": [
        "#o las URI de los records que han hecho\n",
        "print('All records made by Artists:',end = '\\n\\n')\n",
        "\n",
        "for s,o in a.subject_objects(FOAF.made):\n",
        "  print(o)"
      ],
      "execution_count": null,
      "outputs": []
    },
    {
      "cell_type": "code",
      "metadata": {
        "colab": {
          "base_uri": "https://localhost:8080/"
        },
        "id": "AUfTjm6pfSz5",
        "outputId": "30e75e3c-9a81-4c47-f47a-a3ff753d4e41"
      },
      "source": [
        "#Analizando un record\n",
        "r = Graph()\n",
        "r.parse(\"http://dbtune.org/jamendo/record/2190\")\n",
        "print(r.serialize(format=\"turtle\").decode(\"utf-8\"))"
      ],
      "execution_count": null,
      "outputs": []
    },
    {
      "cell_type": "code",
      "metadata": {
        "colab": {
          "base_uri": "https://localhost:8080/"
        },
        "id": "jq2-QT1KvCtP",
        "outputId": "dab106a3-c256-4ae0-87c9-db585f347bbd"
      },
      "source": [
        "\n",
        "Data = {}\n",
        "for s,p,o in a.triples((None,FOAF.name,None)):\n",
        "  id = s.split('/')[5]\n",
        "  Data[id] = []\n",
        "  Data[id].append(o)\n",
        "for s,p,o in a.triples((None,FOAF.made,None)):\n",
        "  id = s.split('/')[5]\n",
        "  Data[id].append(o)\n",
        "\n",
        "for key,item in Data.items():\n",
        "  for i in range(len(item)):\n",
        "    if i == 0:\n",
        "      print(f'The Artist name {item[i]} made:',end='')\n",
        "    else:\n",
        "      print(item[i],end=' ')\n",
        "  print()\n",
        "\n",
        "\n"
      ],
      "execution_count": null,
      "outputs": []
    },
    {
      "source": [
        "# Extracción de la estructura RDF"
      ],
      "cell_type": "markdown",
      "metadata": {}
    },
    {
      "source": [
        "Extrayendo la estructura RDF online que se encuentra en la plataforma de Jamendo en el siguiente enlace http://dbtune.org/jamendo/all/artist"
      ],
      "cell_type": "markdown",
      "metadata": {}
    },
    {
      "cell_type": "code",
      "execution_count": null,
      "metadata": {},
      "outputs": [],
      "source": [
        "g = Graph()\n",
        "g.parse(\"http://dbtune.org/jamendo/all/artist\", format=\"xml\")"
      ]
    },
    {
      "cell_type": "code",
      "execution_count": null,
      "metadata": {},
      "outputs": [],
      "source": [
        "len(g)"
      ]
    },
    {
      "source": [
        "Extrayendo los recursos relacionados a MUSICARTIST"
      ],
      "cell_type": "markdown",
      "metadata": {}
    },
    {
      "cell_type": "code",
      "execution_count": null,
      "metadata": {},
      "outputs": [],
      "source": [
        "num_artists = 50\n",
        "i = 1\n",
        "m = Graph()\n",
        "for s, o in g.subject_objects():\n",
        "  if i == num_artists:\n",
        "    break\n",
        "  id = s.split('/')\n",
        "  m.parse(f'http://dbtune.org/jamendo/artist/{id[5]}')\n",
        "  i += 1"
      ]
    },
    {
      "source": [
        "Extrayendo los RECORDs relacionados a cada MUSICARTIST"
      ],
      "cell_type": "markdown",
      "metadata": {}
    },
    {
      "cell_type": "code",
      "execution_count": null,
      "metadata": {},
      "outputs": [],
      "source": [
        "for s, o in m.subject_objects(FOAF.made):\n",
        "  id = o.split('/')\n",
        "  m.parse(f'http://dbtune.org/jamendo/record/{id[5]}')"
      ]
    },
    {
      "source": [
        "Extrayendo los TRACKs relacionados a cada RECORD"
      ],
      "cell_type": "markdown",
      "metadata": {}
    },
    {
      "cell_type": "code",
      "execution_count": null,
      "metadata": {},
      "outputs": [],
      "source": [
        "ns1 = URIRef(\"http://purl.org/ontology/mo/track\")\n",
        "\n",
        "for s,o in m.subject_objects(ns1):\n",
        "  id = o.split('/')\n",
        "  m.parse(f'http://dbtune.org/jamendo/track/{id[5]}')"
      ]
    },
    {
      "source": [
        "Extrayendo los TAGs relacionados a cada RECORD"
      ],
      "cell_type": "markdown",
      "metadata": {}
    },
    {
      "cell_type": "code",
      "execution_count": null,
      "metadata": {},
      "outputs": [],
      "source": [
        "ns2 = URIRef(\"http://www.holygoat.co.uk/owl/redwood/0.1/tags/taggedWithTag\")\n",
        "\n",
        "for s,o in m.subject_objects(ns2):\n",
        "  id = o.split('/')\n",
        "  m.parse(f'http://dbtune.org/jamendo/tag/{id[5]}')"
      ]
    },
    {
      "source": [
        "Guardando la estructura que se extrajo en todo el proceso"
      ],
      "cell_type": "markdown",
      "metadata": {}
    },
    {
      "cell_type": "code",
      "execution_count": null,
      "metadata": {},
      "outputs": [],
      "source": [
        "m.serialize(destination='music.rdf', format='xml')"
      ]
    },
    {
      "source": [
        "# Modelado del Grafo"
      ],
      "cell_type": "markdown",
      "metadata": {}
    },
    {
      "source": [
        "Definiendo los namespace que usaremos"
      ],
      "cell_type": "markdown",
      "metadata": {}
    },
    {
      "cell_type": "code",
      "execution_count": null,
      "metadata": {},
      "outputs": [],
      "source": [
        "ns1 = URIRef(\"http://purl.org/ontology/mo/\")\n",
        "ns2 = URIRef(\"http://www.holygoat.co.uk/owl/redwood/0.1/tags/\")\n",
        "owl = URIRef(\"http://www.w3.org/2002/07/owl#\")"
      ]
    },
    {
      "source": [
        "Cargando el archivo music.rdf"
      ],
      "cell_type": "markdown",
      "metadata": {}
    },
    {
      "cell_type": "code",
      "execution_count": null,
      "metadata": {},
      "outputs": [],
      "source": [
        "g = ConjunctiveGraph()\n",
        "g.parse(\"music.rdf\", format=\"xml\")"
      ]
    },
    {
      "cell_type": "code",
      "execution_count": null,
      "metadata": {},
      "outputs": [],
      "source": [
        "len(g)"
      ]
    },
    {
      "cell_type": "code",
      "execution_count": null,
      "metadata": {
        "tags": [
          "outputPrepend"
        ]
      },
      "outputs": [],
      "source": [
        "print(g.serialize(format=\"turtle\").decode(\"utf-8\"))"
      ]
    },
    {
      "source": [
        "# Inferencias"
      ],
      "cell_type": "markdown",
      "metadata": {}
    },
    {
      "source": [
        "## Primera inferencia\n",
        "Encontrar los Tracks que fueron hechos por cada Artist"
      ],
      "cell_type": "markdown",
      "metadata": {}
    },
    {
      "cell_type": "code",
      "execution_count": null,
      "metadata": {
        "tags": [
          "outputPrepend"
        ]
      },
      "outputs": [],
      "source": [
        "for subject, record in g.subject_objects(FOAF.made):\n",
        "  for track in g.transitive_objects(record, ns1 + \"track\"):\n",
        "    #print(str(subject) + \" made \" + str(track))\n",
        "    print(g.value(subject, FOAF.name) + \" made \" + g.value(track, DC.title))"
      ]
    },
    {
      "source": [
        "## Segunda inferencia\n",
        "Encontrar los tipos de música (Tags) a los que pertence la producción de cada Artist"
      ],
      "cell_type": "markdown",
      "metadata": {}
    },
    {
      "cell_type": "code",
      "execution_count": null,
      "metadata": {
        "tags": [
          "outputPrepend"
        ]
      },
      "outputs": [],
      "source": [
        "for subject, record in g.subject_objects(FOAF.made):\n",
        "  for tag in g.transitive_objects(record, ns2 + \"taggedWithTag\"):\n",
        "    #print(str(subject) + \" made \" + str(tag))\n",
        "    print(g.value(subject, FOAF.name) + \" made \" + g.value(tag, ns2 + \"tagName\") + \" music\")"
      ]
    },
    {
      "source": [
        "## Tercera inferencia\n",
        "Encontrar las licencias bajo las cuales cada Artist lanza su producción"
      ],
      "cell_type": "markdown",
      "metadata": {}
    },
    {
      "cell_type": "code",
      "execution_count": null,
      "metadata": {
        "tags": [
          "outputPrepend"
        ]
      },
      "outputs": [],
      "source": [
        "for subject, record in g.subject_objects(FOAF.made):\n",
        "  for track in g.transitive_objects(record, ns1 + \"track\"):\n",
        "    #print(str(subject) + \" made \" + str(track))\n",
        "    print(g.value(subject, FOAF.name) + \" made work under \" + g.value(track, ns1 + \"license\") + \" license\")"
      ]
    },
    {
      "cell_type": "code",
      "execution_count": null,
      "metadata": {},
      "outputs": [],
      "source": []
    }
  ]
}