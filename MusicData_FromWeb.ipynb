{
  "nbformat": 4,
  "nbformat_minor": 0,
  "metadata": {
    "colab": {
      "name": "MusicData_FromWeb.ipynb",
      "provenance": [],
      "toc_visible": true,
      "include_colab_link": true
    },
    "kernelspec": {
      "name": "python385jvsc74a57bd0a2f4e1d56b0fbea644ca7d6e69692bb9f4895c70fb5922c38883ad0ee003e752",
      "display_name": "Python 3.8.5 64-bit ('base': conda)"
    },
    "language_info": {
      "name": "python",
      "version": "3.8.5"
    },
    "metadata": {
      "interpreter": {
        "hash": "a2f4e1d56b0fbea644ca7d6e69692bb9f4895c70fb5922c38883ad0ee003e752"
      }
    }
  },
  "cells": [
    {
      "cell_type": "markdown",
      "metadata": {
        "id": "view-in-github",
        "colab_type": "text"
      },
      "source": [
        "<a href=\"https://colab.research.google.com/github/fidelgabriel21/IA_PC1/blob/main/MusicData_FromWeb.ipynb\" target=\"_parent\"><img src=\"https://colab.research.google.com/assets/colab-badge.svg\" alt=\"Open In Colab\"/></a>"
      ]
    },
    {
      "cell_type": "markdown",
      "metadata": {
        "id": "l0pMRwaGTH-2"
      },
      "source": [
        "# Obtención de datos de la web\n",
        "En este cuaderno se mostrará como obtener datos relacionada a la industria de la música del repositorio de Jamendo http://dbtune.org/jamendo/ , utilizando rdflib."
      ]
    },
    {
      "cell_type": "code",
      "metadata": {
        "colab": {
          "base_uri": "https://localhost:8080/"
        },
        "id": "TLAifp-WTBZE",
        "outputId": "d4d4a912-fc0b-4535-9650-663e760e19d9"
      },
      "source": [
        "%pip install rdflib"
      ],
      "execution_count": null,
      "outputs": []
    },
    {
      "cell_type": "markdown",
      "metadata": {
        "id": "2rMH5pGKTGfs"
      },
      "source": [
        "Se trabajará con la información de todos los artista que nos brinda Jamendo, con esta crearemos el grafo\n"
      ]
    },
    {
      "cell_type": "code",
      "metadata": {
        "colab": {
          "base_uri": "https://localhost:8080/"
        },
        "id": "uM-vnyuVZG3a",
        "outputId": "70376070-b9b0-43d6-825a-2cc8362e8390"
      },
      "source": [
        "from rdflib import Graph\n",
        "\n",
        "j = Graph()\n",
        "j.parse(\"http://dbtune.org/jamendo/all/artist\")\n",
        "\n",
        "print(j.serialize(format=\"turtle\").decode(\"utf-8\"))"
      ],
      "execution_count": null,
      "outputs": []
    },
    {
      "cell_type": "markdown",
      "metadata": {
        "id": "-e0LNrcZZx9_"
      },
      "source": [
        "Cada subject del grafo j, noda indicará una URIRef con información de un determinado artista, para obtener esta data podemos crear múltiples grafos que representen a cada artista"
      ]
    },
    {
      "cell_type": "code",
      "metadata": {
        "colab": {
          "base_uri": "https://localhost:8080/"
        },
        "id": "d2_xM59japrh",
        "outputId": "74e17dd3-88a8-4538-9d60-cd0cd4308741"
      },
      "source": [
        "i = 0 \n",
        "a = Graph()\n",
        "for s,o in j.subject_objects():\n",
        "    i = i + 1 \n",
        "    if(i == 10): #solo los 10 primeros\n",
        "        break\n",
        "    id = s.split('/')\n",
        "    a.parse(f'http://dbtune.org/jamendo/artist/{id[5]}')\n",
        "print(a.serialize(format=\"turtle\").decode(\"utf-8\"))"
      ],
      "execution_count": null,
      "outputs": []
    },
    {
      "cell_type": "markdown",
      "metadata": {
        "id": "ZU2Kp1t5dwK3"
      },
      "source": [
        "Ahora en el grafo a, tenemos datos sobre diferentes artistas que se pueden extraer mediante un filtro, un ejemplo de esto \n",
        "sería extraer name."
      ]
    },
    {
      "cell_type": "code",
      "metadata": {
        "colab": {
          "base_uri": "https://localhost:8080/"
        },
        "id": "tBxxpl3bcKuO",
        "outputId": "0f931e2a-a0fc-47e3-d675-d9590efa8b97"
      },
      "source": [
        "from rdflib.namespace import FOAF\n",
        "\n",
        "print('Artists names:',end = '\\n\\n')\n",
        "for s,o in a.subject_objects(FOAF.name):\n",
        "  print(o)"
      ],
      "execution_count": null,
      "outputs": []
    },
    {
      "cell_type": "code",
      "metadata": {
        "colab": {
          "base_uri": "https://localhost:8080/"
        },
        "id": "Uu63lRKgdJYy",
        "outputId": "4ae72409-bd6f-4da3-d596-f9f0f58d7489"
      },
      "source": [
        "#o las URI de los records que han hecho\n",
        "print('All records made by Artists:',end = '\\n\\n')\n",
        "\n",
        "for s,o in a.subject_objects(FOAF.made):\n",
        "  print(o)"
      ],
      "execution_count": null,
      "outputs": []
    },
    {
      "cell_type": "code",
      "metadata": {
        "colab": {
          "base_uri": "https://localhost:8080/"
        },
        "id": "AUfTjm6pfSz5",
        "outputId": "cac78e92-e102-4a6f-c32c-3c64a0e1ac3c"
      },
      "source": [
        "#Analizando un record\n",
        "r = Graph()\n",
        "r.parse(\"http://dbtune.org/jamendo/record/2190\")\n",
        "print(r.serialize(format=\"turtle\").decode(\"utf-8\"))"
      ],
      "execution_count": null,
      "outputs": []
    },
    {
      "cell_type": "markdown",
      "metadata": {
        "id": "cjnfwRrIQi98"
      },
      "source": [
        "En este ejemplo mostraremos que tambien podemos guardar la data que se está mostrando en una estructura básica de python, se utilizará un dictionario en el que se mostrará un artist y sus records que tiene"
      ]
    },
    {
      "cell_type": "code",
      "metadata": {
        "colab": {
          "base_uri": "https://localhost:8080/"
        },
        "id": "jq2-QT1KvCtP",
        "outputId": "8d0a29da-47ad-4c79-f0b2-144fe2f02a4e"
      },
      "source": [
        "\n",
        "Data = {}\n",
        "for s,p,o in a.triples((None,FOAF.name,None)):\n",
        "  id = s.split('/')[5]\n",
        "  Data[id] = []\n",
        "  Data[id].append(o)\n",
        "for s,p,o in a.triples((None,FOAF.made,None)):\n",
        "  id = s.split('/')[5]\n",
        "  Data[id].append(o)\n",
        "\n",
        "for key,item in Data.items():\n",
        "  for i in range(len(item)):\n",
        "    if i == 0:\n",
        "      print(f'The Artist name {item[i]} made:',end='')\n",
        "    else:\n",
        "      print(item[i],end=' ')\n",
        "  print()\n",
        "\n",
        "\n"
      ],
      "execution_count": null,
      "outputs": []
    },
    {
      "cell_type": "markdown",
      "metadata": {
        "id": "34_d0LLGQZLs"
      },
      "source": [
        "# Modelado del Grafo"
      ]
    },
    {
      "cell_type": "code",
      "metadata": {
        "id": "J8DnO-6CQZLt"
      },
      "source": [
        "from rdflib import URIRef, BNode, Literal\n",
        "from rdflib import Namespace\n",
        "from rdflib.namespace import RDF, RDFS, FOAF, DC\n",
        "from rdflib import ConjunctiveGraph"
      ],
      "execution_count": null,
      "outputs": []
    },
    {
      "cell_type": "markdown",
      "metadata": {
        "id": "bJpLhBwiQZLu"
      },
      "source": [
        "Definiendo los namespace que usaremos"
      ]
    },
    {
      "cell_type": "code",
      "metadata": {
        "id": "rqkkZbEaQZLu"
      },
      "source": [
        "ns1 = URIRef(\"http://purl.org/ontology/mo/\")\n",
        "ns2 = URIRef(\"http://www.holygoat.co.uk/owl/redwood/0.1/tags/\")\n",
        "owl = URIRef(\"http://www.w3.org/2002/07/owl#\")\n",
        "dc  = URIRef(\"http://purl.org/dc/elements/1.1/\")"
      ],
      "execution_count": null,
      "outputs": []
    },
    {
      "cell_type": "markdown",
      "metadata": {
        "id": "HSCL9pRfQZLv"
      },
      "source": [
        "Cargando el archivo music.rdf"
      ]
    },
    {
      "cell_type": "code",
      "metadata": {
        "id": "-tLi28KFQZLv",
        "colab": {
          "base_uri": "https://localhost:8080/"
        },
        "outputId": "0cd6b76e-2519-481a-f5f1-2df3eb9dfe5f"
      },
      "source": [
        "g = ConjunctiveGraph()\n",
        "g.parse(\"music.rdf\", format=\"xml\")"
      ],
      "execution_count": null,
      "outputs": []
    },
    {
      "cell_type": "code",
      "metadata": {
        "id": "uabfFXehQZLx"
      },
      "source": [
        "len(g)"
      ],
      "execution_count": null,
      "outputs": []
    },
    {
      "cell_type": "code",
      "metadata": {
        "tags": [
          "outputPrepend"
        ],
        "id": "bj7YNGAOQZLy"
      },
      "source": [
        "print(g.serialize(format=\"turtle\").decode(\"utf-8\"))"
      ],
      "execution_count": null,
      "outputs": []
    },
    {
      "cell_type": "markdown",
      "metadata": {
        "id": "WejRtea5QZLz"
      },
      "source": [
        "# Inferencias"
      ]
    },
    {
      "cell_type": "markdown",
      "metadata": {
        "id": "qNB4IBkiQZL0"
      },
      "source": [
        "## Primera inferencia\n",
        "Encontrar los Tracks que fueron hechos por cada Artist"
      ]
    },
    {
      "cell_type": "code",
      "metadata": {
        "tags": [
          "outputPrepend"
        ],
        "id": "3r-XeDOAQZL1"
      },
      "source": [
        "for subject, record in g.subject_objects(FOAF.made):\n",
        "  for track in g.transitive_objects(record, ns1 + \"track\"):\n",
        "    #print(str(subject) + \" made \" + str(track))\n",
        "    print(g.value(subject, FOAF.name) + \" made \" + g.value(track, DC.title))"
      ],
      "execution_count": null,
      "outputs": []
    },
    {
      "cell_type": "markdown",
      "metadata": {
        "id": "XkTBIDunQZL3"
      },
      "source": [
        "## Segunda inferencia\n",
        "Encontrar los tipos de música (Tags) a los que pertence la producción de cada Artist"
      ]
    },
    {
      "cell_type": "code",
      "metadata": {
        "tags": [
          "outputPrepend"
        ],
        "id": "B7xX5vWHQZL3"
      },
      "source": [
        "for subject, record in g.subject_objects(FOAF.made):\n",
        "  for tag in g.transitive_objects(record, ns2 + \"taggedWithTag\"):\n",
        "    #print(str(subject) + \" made \" + str(tag))\n",
        "    print(g.value(subject, FOAF.name) + \" made \" + g.value(tag, ns2 + \"tagName\") + \" music\")"
      ],
      "execution_count": null,
      "outputs": []
    },
    {
      "cell_type": "markdown",
      "metadata": {
        "id": "KfUucj5ZQZL7"
      },
      "source": [
        "## Tercera inferencia\n",
        "Encontrar las licencias bajo las cuales cada Artist lanza su producción"
      ]
    },
    {
      "cell_type": "code",
      "metadata": {
        "tags": [
          "outputPrepend"
        ],
        "id": "xa07BYr4QZL8"
      },
      "source": [
        "for subject, record in g.subject_objects(FOAF.made):\n",
        "  for track in g.transitive_objects(record, ns1 + \"track\"):\n",
        "    #print(str(subject) + \" made \" + str(track))\n",
        "    print(g.value(subject, FOAF.name) + \" made work under \" + g.value(track, ns1 + \"license\") + \" license\")"
      ],
      "execution_count": null,
      "outputs": []
    },
    {
      "cell_type": "markdown",
      "metadata": {
        "id": "vjtqad0lRBaZ"
      },
      "source": [
        "##Cuarta Inferencia\n",
        "Encontrar los track numbers de cada track realizado por un artista"
      ]
    },
    {
      "cell_type": "code",
      "metadata": {
        "id": "IiILLB6bQZMA",
        "colab": {
          "base_uri": "https://localhost:8080/"
        },
        "outputId": "d24e858a-cdfb-4def-c9ef-c0cbfec7d7fa"
      },
      "source": [
        "\n",
        "for subject, record in g.subject_objects(FOAF.made):\n",
        "  for track in g.transitive_objects(record, ns1 + \"track\"):\n",
        "    print(g.value(subject, FOAF.name) + \" made \" + g.value(track, DC.title) +\" that have \" + g.value(track, ns1 + \"track_number\") + \" track number\")"
      ],
      "execution_count": null,
      "outputs": []
    }
  ]
}