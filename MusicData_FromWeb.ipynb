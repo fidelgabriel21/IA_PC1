{
  "nbformat": 4,
  "nbformat_minor": 0,
  "metadata": {
    "colab": {
      "name": "MusicData_FromWeb.ipynb",
      "provenance": []
    },
    "kernelspec": {
      "name": "python3",
      "display_name": "Python 3"
    },
    "language_info": {
      "name": "python"
    }
  },
  "cells": [
    {
      "cell_type": "markdown",
      "metadata": {
        "id": "l0pMRwaGTH-2"
      },
      "source": [
        "En este cuaderno se mostrará como obtener datos relacionada a la industria de la música del repositorio de Jamendo http://dbtune.org/jamendo/ , utilizando rdflib."
      ]
    },
    {
      "cell_type": "code",
      "metadata": {
        "colab": {
          "base_uri": "https://localhost:8080/"
        },
        "id": "TLAifp-WTBZE",
        "outputId": "78955dfc-a295-4410-ee99-8d668b1f8531"
      },
      "source": [
        "%pip install rdflib"
      ],
      "execution_count": 2,
      "outputs": [
        {
          "output_type": "stream",
          "text": [
            "Collecting rdflib\n",
            "\u001b[?25l  Downloading https://files.pythonhosted.org/packages/d0/6b/6454aa1db753c0f8bc265a5bd5c10b5721a4bb24160fb4faf758cf6be8a1/rdflib-5.0.0-py3-none-any.whl (231kB)\n",
            "\r\u001b[K     |█▍                              | 10kB 13.5MB/s eta 0:00:01\r\u001b[K     |██▉                             | 20kB 16.0MB/s eta 0:00:01\r\u001b[K     |████▎                           | 30kB 10.5MB/s eta 0:00:01\r\u001b[K     |█████▊                          | 40kB 9.0MB/s eta 0:00:01\r\u001b[K     |███████                         | 51kB 5.5MB/s eta 0:00:01\r\u001b[K     |████████▌                       | 61kB 6.0MB/s eta 0:00:01\r\u001b[K     |██████████                      | 71kB 6.0MB/s eta 0:00:01\r\u001b[K     |███████████▍                    | 81kB 6.7MB/s eta 0:00:01\r\u001b[K     |████████████▊                   | 92kB 6.5MB/s eta 0:00:01\r\u001b[K     |██████████████▏                 | 102kB 6.9MB/s eta 0:00:01\r\u001b[K     |███████████████▋                | 112kB 6.9MB/s eta 0:00:01\r\u001b[K     |█████████████████               | 122kB 6.9MB/s eta 0:00:01\r\u001b[K     |██████████████████▍             | 133kB 6.9MB/s eta 0:00:01\r\u001b[K     |███████████████████▉            | 143kB 6.9MB/s eta 0:00:01\r\u001b[K     |█████████████████████▎          | 153kB 6.9MB/s eta 0:00:01\r\u001b[K     |██████████████████████▊         | 163kB 6.9MB/s eta 0:00:01\r\u001b[K     |████████████████████████        | 174kB 6.9MB/s eta 0:00:01\r\u001b[K     |█████████████████████████▌      | 184kB 6.9MB/s eta 0:00:01\r\u001b[K     |███████████████████████████     | 194kB 6.9MB/s eta 0:00:01\r\u001b[K     |████████████████████████████▍   | 204kB 6.9MB/s eta 0:00:01\r\u001b[K     |█████████████████████████████▉  | 215kB 6.9MB/s eta 0:00:01\r\u001b[K     |███████████████████████████████▏| 225kB 6.9MB/s eta 0:00:01\r\u001b[K     |████████████████████████████████| 235kB 6.9MB/s \n",
            "\u001b[?25hRequirement already satisfied: pyparsing in /usr/local/lib/python3.7/dist-packages (from rdflib) (2.4.7)\n",
            "Collecting isodate\n",
            "\u001b[?25l  Downloading https://files.pythonhosted.org/packages/9b/9f/b36f7774ff5ea8e428fdcfc4bb332c39ee5b9362ddd3d40d9516a55221b2/isodate-0.6.0-py2.py3-none-any.whl (45kB)\n",
            "\u001b[K     |████████████████████████████████| 51kB 4.8MB/s \n",
            "\u001b[?25hRequirement already satisfied: six in /usr/local/lib/python3.7/dist-packages (from rdflib) (1.15.0)\n",
            "Installing collected packages: isodate, rdflib\n",
            "Successfully installed isodate-0.6.0 rdflib-5.0.0\n"
          ],
          "name": "stdout"
        }
      ]
    },
    {
      "cell_type": "markdown",
      "metadata": {
        "id": "2rMH5pGKTGfs"
      },
      "source": [
        "Se trabajará con la información de todos los artista que nos brinda Jamendo, con esta crearemos el grafo\n"
      ]
    },
    {
      "cell_type": "code",
      "metadata": {
        "colab": {
          "base_uri": "https://localhost:8080/"
        },
        "id": "uM-vnyuVZG3a",
        "outputId": "09e713b9-e096-4ddd-c553-fd9e28a05349"
      },
      "source": [
        "from rdflib import Graph\n",
        "\n",
        "j = Graph()\n",
        "j.parse(\"http://dbtune.org/jamendo/all/artist\")\n",
        "\n",
        "print(j.serialize(format=\"turtle\").decode(\"utf-8\"))"
      ],
      "execution_count": 21,
      "outputs": [
        {
          "output_type": "execute_result",
          "data": {
            "text/plain": [
              "<Graph identifier=N0e31e5f3768e496a8a2a63489c27ccb9 (<class 'rdflib.graph.Graph'>)>"
            ]
          },
          "metadata": {
            "tags": []
          },
          "execution_count": 21
        }
      ]
    },
    {
      "cell_type": "markdown",
      "metadata": {
        "id": "-e0LNrcZZx9_"
      },
      "source": [
        "Cada subject del grafo j, noda indicará una URIRef con información de un determinado artista, para obtener esta data podemos crear múltiples grafos que representen a cada artista"
      ]
    },
    {
      "cell_type": "code",
      "metadata": {
        "colab": {
          "base_uri": "https://localhost:8080/"
        },
        "id": "d2_xM59japrh",
        "outputId": "51167fa2-06ed-4fa4-80c8-ce0365fd9264"
      },
      "source": [
        "i = 0 \n",
        "a = Graph()\n",
        "for s,o in j.subject_objects():\n",
        "    i = i + 1 \n",
        "    if(i == 10): #solo los 10 primeros\n",
        "        break\n",
        "    id = s.split('/')\n",
        "    a.parse(f'http://dbtune.org/jamendo/artist/{id[5]}')\n",
        "print(a.serialize(format=\"turtle\").decode(\"utf-8\"))"
      ],
      "execution_count": 22,
      "outputs": [
        {
          "output_type": "stream",
          "text": [
            "@prefix foaf: <http://xmlns.com/foaf/0.1/> .\n",
            "@prefix ns1: <http://purl.org/ontology/mo/> .\n",
            "@prefix rdfs: <http://www.w3.org/2000/01/rdf-schema#> .\n",
            "@prefix xsd: <http://www.w3.org/2001/XMLSchema#> .\n",
            "\n",
            "<http://dbtune.org/jamendo/artist/2241> a ns1:MusicArtist,\n",
            "        rdfs:Resource ;\n",
            "    ns1:biography \"\"\"Brom was formed in 2004 consisting of 6 members. Brom set out to rewrite aggresive music and take on songwriting with two singers, not just back and forth singing either but to have one compliment the other. Later with a change of members most of the vocals are sung by Tony.<br />\n",
            "<br />\n",
            "Brom has gone through quite a few members keeping Jeff and Kelly at it's core they have stretched themselves to make the project work. Tony and Ricky have been in the group since late 2004 and add to the groups integrity and stage show.<br />\n",
            "<br />\n",
            "Brom is currently working on it's new studio in Everett Washington and preparing to record their first full length release.<br />\n",
            "<br />\n",
            "Brom currently has a three song EP available, you can pick up a copy for yourself for a BUCK at Everett Tattoo Emporium or two dollars postage paid to your door within the USA outside of the country? Just drop me an email. Bass is done by Tim. We appreciate his efforts and wish him well with his musical endevours.<br />\n",
            "<br />\n",
            "<strong>&quot;Honestly it is hard to keep a group of serious musicians together. Even the good ones get tired of putting their all into the art when you have guys that are just out there to party, it's fucking hard to carry the slack they create. You have to be able to work with people that realise that band practice is just that and not some expensive clubhouse. I think our DIY attitude and our determination will get us through and we will over come. I haven't lost site of what I am in this for.&quot; -Tony Sonic, May 2006</strong>\"\"\"^^xsd:string ;\n",
            "    foaf:based_near <http://sws.geonames.org/6252001/> ;\n",
            "    foaf:homepage <http://www.brom.us> ;\n",
            "    foaf:img <http://img.jamendo.com/artists/b/brom.jpg> ;\n",
            "    foaf:made <http://dbtune.org/jamendo/record/2190> ;\n",
            "    foaf:name \"BROM\"^^xsd:string .\n",
            "\n",
            "<http://dbtune.org/jamendo/artist/3051> a ns1:MusicArtist,\n",
            "        rdfs:Resource ;\n",
            "    foaf:based_near <http://sws.geonames.org/2968815/> ;\n",
            "    foaf:homepage <http://www.myspace.com/louislinggandthebombs> ;\n",
            "    foaf:img <http://img.jamendo.com/artists/l/louis.lingg.and.the.bombs.jpg> ;\n",
            "    foaf:made <http://dbtune.org/jamendo/record/2889> ;\n",
            "    foaf:name \"Louis Lingg and the Bombs\"^^xsd:string .\n",
            "\n",
            "<http://dbtune.org/jamendo/artist/336590> a ns1:MusicArtist,\n",
            "        rdfs:Resource ;\n",
            "    foaf:based_near <http://sws.geonames.org/798544/> ;\n",
            "    foaf:made <http://dbtune.org/jamendo/record/8868> ;\n",
            "    foaf:name \"skadyll\"^^xsd:string .\n",
            "\n",
            "<http://dbtune.org/jamendo/artist/336676> a ns1:MusicArtist,\n",
            "        rdfs:Resource ;\n",
            "    ns1:biography \"\"\"www.myspace.com/JCGKmusic<br />\n",
            "<br />\n",
            "Dublin based duo.<br />\n",
            "First LP coming out soon\"\"\"^^xsd:string ;\n",
            "    foaf:based_near <http://sws.geonames.org/2963597/> ;\n",
            "    foaf:homepage <file:///var/www/sites/dbtune-rdf-services/jamendo/static-rdf/www.myspace.com/JCGKmusic> ;\n",
            "    foaf:img <http://img.jamendo.com/artists/J/JCGK.jpg> ;\n",
            "    foaf:made <http://dbtune.org/jamendo/record/10115> ;\n",
            "    foaf:name \"JC+GK\"^^xsd:string .\n",
            "\n",
            "<http://dbtune.org/jamendo/artist/3701> a ns1:MusicArtist,\n",
            "        rdfs:Resource ;\n",
            "    foaf:based_near <http://sws.geonames.org/3469034/> ;\n",
            "    foaf:img <http://img.jamendo.com/artists/r/refensdacidade.jpg> ;\n",
            "    foaf:made <http://dbtune.org/jamendo/record/3399> ;\n",
            "    foaf:name \"Reféns da Cidade\"^^xsd:string .\n",
            "\n",
            "<http://dbtune.org/jamendo/artist/5639> a ns1:MusicArtist,\n",
            "        rdfs:Resource ;\n",
            "    foaf:based_near <http://sws.geonames.org/798544/> ;\n",
            "    foaf:homepage <http://www.nerious.webpark.pl> ;\n",
            "    foaf:img <http://img.jamendo.com/artists/n/nerious.png> ;\n",
            "    foaf:made <http://dbtune.org/jamendo/record/12813>,\n",
            "        <http://dbtune.org/jamendo/record/4908>,\n",
            "        <http://dbtune.org/jamendo/record/7565> ;\n",
            "    foaf:name \"Nerious\"^^xsd:string .\n",
            "\n",
            "<http://dbtune.org/jamendo/artist/6636> a ns1:MusicArtist,\n",
            "        rdfs:Resource ;\n",
            "    ns1:biography \"<strong>&nbsp;&nbsp;&nbsp; This music is made with intention to move people physically (through dance), emotionally (through storytelling and love) and spiritually (through trance).&nbsp; The goal of Momentary Prophets is to induce movement be it movement of you feet against the ground, movement of your mind to a memory, or movement of your spirit towards political means.&nbsp; Momentary Prophets take what has been made available through memory, dream, and prophecy and combine it with innovative and focused musicianship.&nbsp; </strong>\"^^xsd:string ;\n",
            "    foaf:based_near <http://sws.geonames.org/6252001/> ;\n",
            "    foaf:homepage <http://www.myspace.com/momentaryprophets> ;\n",
            "    foaf:img <http://img.jamendo.com/artists/m/momentary.prophets.gif> ;\n",
            "    foaf:made <http://dbtune.org/jamendo/record/5797> ;\n",
            "    foaf:name \"Momentary Prophets\"^^xsd:string .\n",
            "\n",
            "<http://dbtune.org/jamendo/artist/7222> a ns1:MusicArtist,\n",
            "        rdfs:Resource ;\n",
            "    ns1:biography \"Psychedelic music composer.\"^^xsd:string ;\n",
            "    foaf:based_near <http://sws.geonames.org/2017370/> ;\n",
            "    foaf:homepage <http://twistedsessions.com/psi_active> ;\n",
            "    foaf:img <http://img.jamendo.com/artists/p/psi-active.jpg> ;\n",
            "    foaf:made <http://dbtune.org/jamendo/record/6798> ;\n",
            "    foaf:name \"Psi Active\"^^xsd:string .\n",
            "\n",
            "<http://dbtune.org/jamendo/artist/987> a ns1:MusicArtist,\n",
            "        rdfs:Resource ;\n",
            "    foaf:based_near <http://sws.geonames.org/3031359/> ;\n",
            "    foaf:homepage <http://www.drunksouls.com> ;\n",
            "    foaf:img <http://img.jamendo.com/artists/d/drunksouls.jpg> ;\n",
            "    foaf:made <http://dbtune.org/jamendo/record/1052> ;\n",
            "    foaf:name \"Drunksouls\"^^xsd:string .\n",
            "\n",
            "\n"
          ],
          "name": "stdout"
        }
      ]
    },
    {
      "cell_type": "markdown",
      "metadata": {
        "id": "ZU2Kp1t5dwK3"
      },
      "source": [
        "Ahora en el grafo a, tenemos datos sobre diferentes artistas que se pueden extraer mediante un filtro, un ejemplo de esto \n",
        "sería extraer name."
      ]
    },
    {
      "cell_type": "code",
      "metadata": {
        "colab": {
          "base_uri": "https://localhost:8080/"
        },
        "id": "tBxxpl3bcKuO",
        "outputId": "f8716816-ad04-4435-eef0-13e03faaffd3"
      },
      "source": [
        "from rdflib.namespace import FOAF\n",
        "\n",
        "print('Artists names:',end = '\\n\\n')\n",
        "for s,o in a.subject_objects(FOAF.name):\n",
        "  print(o)"
      ],
      "execution_count": 23,
      "outputs": [
        {
          "output_type": "stream",
          "text": [
            "Artists names:\n",
            "\n",
            "JC+GK\n",
            "Louis Lingg and the Bombs\n",
            "Reféns da Cidade\n",
            "Momentary Prophets\n",
            "Drunksouls\n",
            "Nerious\n",
            "BROM\n",
            "skadyll\n",
            "Psi Active\n"
          ],
          "name": "stdout"
        }
      ]
    },
    {
      "cell_type": "code",
      "metadata": {
        "colab": {
          "base_uri": "https://localhost:8080/"
        },
        "id": "Uu63lRKgdJYy",
        "outputId": "a9cffda2-3505-4aa5-93a3-9460be304145"
      },
      "source": [
        "#o las URI de los records que han hecho\n",
        "print('All records made by Artists:',end = '\\n\\n')\n",
        "\n",
        "for s,o in a.subject_objects(FOAF.made):\n",
        "  print(o)"
      ],
      "execution_count": 24,
      "outputs": [
        {
          "output_type": "stream",
          "text": [
            "All records made by Artists:\n",
            "\n",
            "http://dbtune.org/jamendo/record/2190\n",
            "http://dbtune.org/jamendo/record/7565\n",
            "http://dbtune.org/jamendo/record/2889\n",
            "http://dbtune.org/jamendo/record/10115\n",
            "http://dbtune.org/jamendo/record/8868\n",
            "http://dbtune.org/jamendo/record/1052\n",
            "http://dbtune.org/jamendo/record/6798\n",
            "http://dbtune.org/jamendo/record/5797\n",
            "http://dbtune.org/jamendo/record/12813\n",
            "http://dbtune.org/jamendo/record/4908\n",
            "http://dbtune.org/jamendo/record/3399\n"
          ],
          "name": "stdout"
        }
      ]
    },
    {
      "cell_type": "code",
      "metadata": {
        "colab": {
          "base_uri": "https://localhost:8080/"
        },
        "id": "AUfTjm6pfSz5",
        "outputId": "a864fe0f-4827-4df3-c172-c40c5446940b"
      },
      "source": [
        "#Analizando un record\n",
        "r = Graph()\n",
        "r.parse(\"http://dbtune.org/jamendo/record/2190\")\n",
        "print(r.serialize(format=\"turtle\").decode(\"utf-8\"))"
      ],
      "execution_count": 25,
      "outputs": [
        {
          "output_type": "stream",
          "text": [
            "@prefix dc: <http://purl.org/dc/elements/1.1/> .\n",
            "@prefix foaf: <http://xmlns.com/foaf/0.1/> .\n",
            "@prefix ns1: <http://purl.org/ontology/mo/> .\n",
            "@prefix ns2: <http://www.holygoat.co.uk/owl/redwood/0.1/tags/> .\n",
            "@prefix rdfs: <http://www.w3.org/2000/01/rdf-schema#> .\n",
            "@prefix xsd: <http://www.w3.org/2001/XMLSchema#> .\n",
            "\n",
            "<http://dbtune.org/jamendo/record/2190> a ns1:Record,\n",
            "        rdfs:Resource ;\n",
            "    dc:date \"2006-06-14 01:17:46\" ;\n",
            "    dc:description \"This E.P. was recorded in Brom's own studio by Peter Lee in Seattle. It is the precursor to their full length that they are hard at work on.\"^^xsd:string ;\n",
            "    dc:title \"BROM E.P.\"^^xsd:string ;\n",
            "    ns1:available_as <http://www.jamendo.com/get/album/id/album/p2p/redirect/2190/?p2pnet=bittorrent&are=mp32>,\n",
            "        <http://www.jamendo.com/get/album/id/album/p2p/redirect/2190/?p2pnet=bittorrent&are=ogg3>,\n",
            "        <http://www.jamendo.com/get/album/id/album/p2p/redirect/2190/?p2pnet=ed2k&are=mp32>,\n",
            "        <http://www.jamendo.com/get/album/id/album/p2p/redirect/2190/?p2pnet=ed2k&are=ogg3>,\n",
            "        <http://www.jamendo.com/get/track/id/album/audio/play/2190/?item_o=track_no_asc&aue=ogg2&n=all>,\n",
            "        <http://www.jamendo.com/get/track/id/album/audio/xspf/2190/?item_o=track_no_asc&aue=ogg2&n=all> ;\n",
            "    ns1:image <http://img.jamendo.com/albums/2190/covers/1.0.jpg>,\n",
            "        <http://img.jamendo.com/albums/2190/covers/1.100.jpg>,\n",
            "        <http://img.jamendo.com/albums/2190/covers/1.300.jpg>,\n",
            "        <http://img.jamendo.com/albums/2190/covers/1.500.jpg> ;\n",
            "    ns1:track <http://dbtune.org/jamendo/track/15384>,\n",
            "        <http://dbtune.org/jamendo/track/15385>,\n",
            "        <http://dbtune.org/jamendo/track/15386> ;\n",
            "    ns2:taggedWithTag <http://dbtune.org/jamendo/tag/cookiemonster>,\n",
            "        <http://dbtune.org/jamendo/tag/hardcore>,\n",
            "        <http://dbtune.org/jamendo/tag/metal>,\n",
            "        <http://dbtune.org/jamendo/tag/rock>,\n",
            "        <http://dbtune.org/jamendo/tag/thrash> ;\n",
            "    foaf:maker <http://dbtune.org/jamendo/artist/2241> .\n",
            "\n",
            "\n"
          ],
          "name": "stdout"
        }
      ]
    }
  ]
}