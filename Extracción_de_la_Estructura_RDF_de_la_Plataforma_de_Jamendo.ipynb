{
  "nbformat": 4,
  "nbformat_minor": 0,
  "metadata": {
    "colab": {
      "name": "Extracción de la Estructura RDF de la Plataforma de Jamendo.ipynb",
      "provenance": [],
      "collapsed_sections": []
    },
    "kernelspec": {
      "name": "python3",
      "display_name": "Python 3"
    },
    "language_info": {
      "name": "python"
    }
  },
  "cells": [
    {
      "cell_type": "markdown",
      "metadata": {
        "id": "HqxSnh17-lqs"
      },
      "source": [
        "# Extracción de la Estructura RDF"
      ]
    },
    {
      "cell_type": "code",
      "metadata": {
        "id": "gUCPGbAXBb6d"
      },
      "source": [
        "!pip install rdflib"
      ],
      "execution_count": null,
      "outputs": []
    },
    {
      "cell_type": "code",
      "metadata": {
        "id": "nlwWBjpRBo-F"
      },
      "source": [
        "import rdflib\n",
        "from rdflib import URIRef, BNode, Literal\n",
        "from rdflib import Namespace\n",
        "from rdflib.namespace import RDF, RDFS, FOAF\n",
        "from rdflib import ConjunctiveGraph\n",
        "from rdflib import Graph\n",
        "import pprint"
      ],
      "execution_count": 10,
      "outputs": []
    },
    {
      "cell_type": "markdown",
      "metadata": {
        "id": "Wy3xrgee_X8M"
      },
      "source": [
        "Extracción de la estructura inicial desde la plataforma de Jamendo"
      ]
    },
    {
      "cell_type": "code",
      "metadata": {
        "id": "i235TwngCDlJ"
      },
      "source": [
        "g = Graph()\n",
        "g.parse(\"http://dbtune.org/jamendo/all/artist\", format=\"xml\")"
      ],
      "execution_count": null,
      "outputs": []
    },
    {
      "cell_type": "code",
      "metadata": {
        "id": "deDGghNOCnth"
      },
      "source": [
        "len(g)"
      ],
      "execution_count": null,
      "outputs": []
    },
    {
      "cell_type": "code",
      "metadata": {
        "id": "PufUhXbu_njm"
      },
      "source": [
        "print(g.serialize(format=\"xml\").decode(\"utf-8\"))"
      ],
      "execution_count": null,
      "outputs": []
    },
    {
      "cell_type": "markdown",
      "metadata": {
        "id": "ooCvLkNw_iRl"
      },
      "source": [
        "Extracción de los MUSICARTISTs relacionados a la estructura inicial"
      ]
    },
    {
      "cell_type": "code",
      "metadata": {
        "id": "6baN05QiDV4w"
      },
      "source": [
        "num_artists = 1\n",
        "i = 0\n",
        "m = Graph()\n",
        "for s, o in g.subject_objects():\n",
        "  if i == num_artists:\n",
        "    break\n",
        "  id = s.split('/')\n",
        "  m.parse(f'http://dbtune.org/jamendo/artist/{id[5]}')\n",
        "  i += 1"
      ],
      "execution_count": 17,
      "outputs": []
    },
    {
      "cell_type": "markdown",
      "metadata": {
        "id": "QdImu5QfBPIb"
      },
      "source": [
        "Extracción de los RECORDs relacionados a cada MUSICARTISTs"
      ]
    },
    {
      "cell_type": "code",
      "metadata": {
        "id": "88eWrRwgFeLg"
      },
      "source": [
        "for s, o in m.subject_objects(FOAF.made):\n",
        "  id = o.split('/')\n",
        "  m.parse(f'http://dbtune.org/jamendo/record/{id[5]}')"
      ],
      "execution_count": 18,
      "outputs": []
    },
    {
      "cell_type": "markdown",
      "metadata": {
        "id": "LPsGHkWbBPzG"
      },
      "source": [
        "Extracción de los TRACKs relacionados a cada RECORD"
      ]
    },
    {
      "cell_type": "code",
      "metadata": {
        "id": "7RCCwokWaFLZ"
      },
      "source": [
        "ns1 = URIRef(\"http://purl.org/ontology/mo/track\")\n",
        "\n",
        "for s,o in m.subject_objects(ns1):\n",
        "  id = o.split('/')\n",
        "  m.parse(f'http://dbtune.org/jamendo/track/{id[5]}')"
      ],
      "execution_count": 19,
      "outputs": []
    },
    {
      "cell_type": "markdown",
      "metadata": {
        "id": "L8R_t61YBQgh"
      },
      "source": [
        "Extracción de los TAGs relacionados a cada RECORD"
      ]
    },
    {
      "cell_type": "code",
      "metadata": {
        "id": "z0wzUIPGlWBx"
      },
      "source": [
        "ns2 = URIRef(\"http://www.holygoat.co.uk/owl/redwood/0.1/tags/taggedWithTag\")\n",
        "\n",
        "for s,o in m.subject_objects(ns2):\n",
        "  id = o.split('/')\n",
        "  m.parse(f'http://dbtune.org/jamendo/tag/{id[5]}')"
      ],
      "execution_count": 20,
      "outputs": []
    },
    {
      "cell_type": "markdown",
      "metadata": {
        "id": "DpxO0jK5B9M_"
      },
      "source": [
        "Mostrando la estructura RDF final"
      ]
    },
    {
      "cell_type": "code",
      "metadata": {
        "id": "GRcgYyWlB9oq"
      },
      "source": [
        "print(m.serialize(format=\"xml\").decode(\"utf-8\"))"
      ],
      "execution_count": null,
      "outputs": []
    },
    {
      "cell_type": "markdown",
      "metadata": {
        "id": "bP_2-TdgBQ7o"
      },
      "source": [
        "Guardando la estructura RDF final en un archivo"
      ]
    },
    {
      "cell_type": "code",
      "metadata": {
        "id": "Rqx-shodH6Qw"
      },
      "source": [
        "m.serialize(destination='music.rdf', format='xml')"
      ],
      "execution_count": null,
      "outputs": []
    }
  ]
}